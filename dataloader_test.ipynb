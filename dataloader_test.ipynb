{
 "cells": [
  {
   "attachments": {},
   "cell_type": "markdown",
   "metadata": {},
   "source": [
    "Test EventDataset"
   ]
  },
  {
   "cell_type": "code",
   "execution_count": 3,
   "metadata": {},
   "outputs": [],
   "source": [
    "from  event_dataset import *\n",
    "from torch.utils.data import  DataLoader\n",
    "from transformers import AutoTokenizer, AutoModelForMaskedLM\n",
    "\n",
    "# 加载预训练的GPT模型和分词器\n",
    "tokenizer = AutoTokenizer.from_pretrained('../models/xlm-roberta-base')\n",
    "model = AutoModelForMaskedLM.from_pretrained(\"../models/xlm-roberta-base\")\n",
    "\n",
    "dataset=EventDataset('./data//dstest.json',tokenizer)\n",
    "dataloader = DataLoader(dataset, batch_size=1, shuffle=False)\n",
    "\n",
    "for batch in dataloader:\n",
    "    input_ids, label_ids, texts, aligned_labels = batch\n",
    "    break\n",
    "    # 在这里执行模型训练的逻辑"
   ]
  },
  {
   "attachments": {},
   "cell_type": "markdown",
   "metadata": {},
   "source": [
    "test for ArgumentsDataset"
   ]
  },
  {
   "cell_type": "code",
   "execution_count": null,
   "metadata": {},
   "outputs": [],
   "source": [
    "from arguments_dataset import ArgumentsDataset\n",
    "from torch.utils.data import  DataLoader\n",
    "from transformers import AutoTokenizer, AutoModelForMaskedLM\n",
    "tokenizer = AutoTokenizer.from_pretrained('../models/xlm-roberta-base')\n",
    "model = AutoModelForMaskedLM.from_pretrained(\"../models/xlm-roberta-base\")\n",
    "dataset=ArgumentsDataset('./data//dstest.json',tokenizer)\n",
    "dataloader = DataLoader(dataset, batch_size=1, shuffle=False)\n",
    "\n",
    "for batch in dataloader:\n",
    "    input_ids, label_ids, texts = batch\n",
    "    print(input_ids, label_ids, texts)\n",
    "    break"
   ]
  },
  {
   "cell_type": "code",
   "execution_count": null,
   "metadata": {},
   "outputs": [],
   "source": [
    "import torch\n",
    "from transformers import AutoTokenizer, AutoModelForMaskedLM,AutoConfig\n",
    "tokenizer = AutoTokenizer.from_pretrained('../models/xlm-roberta-base')\n",
    "config=AutoConfig.from_pretrained(\"../models/xlm-roberta-base\",output_hidden_states=True)\n",
    "model = AutoModelForMaskedLM.from_pretrained(\"../models/xlm-roberta-base\",config=config)\n",
    "text=\"俄罗斯海军总司令部对外表示，俄罗斯和印度已经签署海豹号核潜艇验收交付书。\"\n",
    "encoding=tokenizer.encode_plus(text,add_special_tokens=True,return_tensors='pt' )\n",
    "input_ids=encoding['input_ids']\n",
    "attention_mask=encoding['attention_mask']\n",
    "device = torch.device('cuda' if torch.cuda.is_available() else 'cpu')\n",
    "input_ids.to(device)\n",
    "model.train()\n",
    "outputs=model(input_ids,attention_mask)\n",
    "print(outputs[1])\n",
    "print(outputs.hidden_states[0].shape)"
   ]
  },
  {
   "cell_type": "code",
   "execution_count": 30,
   "metadata": {},
   "outputs": [
    {
     "name": "stdout",
     "output_type": "stream",
     "text": [
      "tensor([[ 1.2316,  2.0020,  0.3251,  1.7427,  0.9088],\n",
      "        [-0.3646,  0.0637, -0.1450, -0.2420,  0.6062],\n",
      "        [ 0.6144, -0.1883, -0.4855, -0.9718,  1.0242]])\n",
      "tensor([[0.1679, 0.3628, 0.0678, 0.2799, 0.1216],\n",
      "        [0.1324, 0.2033, 0.1650, 0.1497, 0.3497],\n",
      "        [0.2864, 0.1283, 0.0953, 0.0586, 0.4314]])\n"
     ]
    }
   ],
   "source": [
    "target = torch.randn(3, 5)\n",
    "print(target)\n",
    "target=target.softmax(dim=1)\n",
    "print(target)\n"
   ]
  }
 ],
 "metadata": {
  "kernelspec": {
   "display_name": "torch",
   "language": "python",
   "name": "python3"
  },
  "language_info": {
   "codemirror_mode": {
    "name": "ipython",
    "version": 3
   },
   "file_extension": ".py",
   "mimetype": "text/x-python",
   "name": "python",
   "nbconvert_exporter": "python",
   "pygments_lexer": "ipython3",
   "version": "3.11.3"
  },
  "orig_nbformat": 4
 },
 "nbformat": 4,
 "nbformat_minor": 2
}
